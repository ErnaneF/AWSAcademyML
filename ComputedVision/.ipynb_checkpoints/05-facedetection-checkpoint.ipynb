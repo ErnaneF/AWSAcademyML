{
 "cells": [
  {
   "cell_type": "markdown",
   "metadata": {},
   "source": [
    "# Laboratório de detecção de faces em visão por computação - Notebook do aluno\n",
    "\n",
    "Neste laboratório, você usará o Amazon Rekognition para realizar a detecção de uma face conhecida.\n",
    "\n",
    "As etapas de alto nível que você executará neste laboratório são:\n",
    "\n",
    "1. Criar uma coleção.\n",
    "\n",
    "2. Fazer o upload de uma imagem de uma face que você deseja detectar no notebook do Amazon SageMaker.\n",
    "\n",
    "3. Adicionar a imagem à coleção.\n",
    "\n",
    "4. Visualizar a caixa delimitadora que foi criada para a imagem.\n",
    "\n",
    "5. Relacionar as faces da coleção.\n",
    "\n",
    "6. Usar a coleção para encontrar uma face.\n",
    "\n",
    "7. Visualizar a caixa delimitadora da face que foi encontrada.\n",
    "\n",
    "8. Excluir a coleção.\n",
    "\n",
    "---"
   ]
  },
  {
   "cell_type": "markdown",
   "metadata": {},
   "source": [
    "## Importação de pacotes do Python\n",
    "\n",
    "Comece importando os pacotes do Python necessários.\n",
    "\n",
    "No código a seguir:\n",
    "\n",
    "- *matplotlib* fornece funções de plotagem\n",
    "- *skimage* representa scikit-image, que fornece várias ferramentas úteis de manipulação de imagens\n",
    "- *boto3* representa o AWS SDK para Python (Boto3), que é a biblioteca Python da AWS\n",
    "- *numpy* representa NumPy, que é uma biblioteca para manipular dados\n",
    "- *PIL* representa a Biblioteca de imagens do Python, que contém um conjunto de ferramentas para desenhar imagens\n"
   ]
  },
  {
   "cell_type": "code",
   "execution_count": null,
   "metadata": {},
   "outputs": [],
   "source": [
    "from skimage import io\n",
    "from skimage.transform import rescale\n",
    "from matplotlib import pyplot as plt\n",
    "\n",
    "import boto3\n",
    "\n",
    "import numpy as np\n",
    "\n",
    "from PIL import Image, ImageDraw, ImageColor, ImageOps\n"
   ]
  },
  {
   "cell_type": "markdown",
   "metadata": {},
   "source": [
    "## Tarefa 1: Criar uma coleção\n",
    "\n",
    "Nesta tarefa, você cria uma coleção no Amazon Rekognition.\n",
    "\n",
    "Você só precisa executar essa etapa uma vez.\n"
   ]
  },
  {
   "cell_type": "code",
   "execution_count": null,
   "metadata": {},
   "outputs": [],
   "source": [
    "client = boto3.client('rekognition')\n",
    "collection_id = 'Collection'\n",
    "response = client.create_collection(CollectionId=collection_id)\n",
    "print('Collection ARN: ' + response['CollectionArn'])\n",
    "print('Status Code:' + str(response['StatusCode']))\n",
    "print('Done...')"
   ]
  },
  {
   "cell_type": "markdown",
   "metadata": {},
   "source": [
    "## Tarefa 2: Fazer o upload de uma imagem para pesquisa\n",
    "\n",
    "Use a imagem de exemplo fornecida, denominada *mum.jpg*, e faça o upload dela para este notebook.\n",
    "\n",
    "Em seguida, observe a imagem executando a célula.\n"
   ]
  },
  {
   "cell_type": "code",
   "execution_count": null,
   "metadata": {},
   "outputs": [],
   "source": [
    "filename = \"mum.jpg\"\n",
    "\n",
    "faceimage = io.imread(filename)\n",
    "\n",
    "plt.imshow(faceimage)\n"
   ]
  },
  {
   "cell_type": "markdown",
   "metadata": {},
   "source": [
    "\n",
    "Certifique-se de que o tamanho da imagem seja inferior a 4096 x 4096 pixels. Se a imagem tiver um tamanho superior, você deverá redimensioná-la usando o seguinte código:\n",
    "\n",
    "`faceimage = rescale(faceimage, 0.50, mode='constant')`\n",
    "\n",
    "**Observação:** O valor numérico representa o fator a ser usado no dimensionamento. Um valor de *0,5* dimensionará a imagem para 50% do original.\n",
    "\n",
    "Quando a imagem for redimensionada, salve o arquivo.\n",
    "\n",
    "`io.imsave(filename, faceimage)`\n",
    "\n",
    "**Dica:** você deve copiar o código em uma célula de código e executá-lo.\n"
   ]
  },
  {
   "cell_type": "markdown",
   "metadata": {},
   "source": [
    "## Tarefa 3: Adicionar a imagem à coleção\n",
    "\n",
    "Adicione a imagem à coleção que você criou anteriormente.\n"
   ]
  },
  {
   "cell_type": "code",
   "execution_count": null,
   "metadata": {},
   "outputs": [],
   "source": [
    "externalimageid = filename\n",
    "\n",
    "with open(filename, 'rb') as fimage:\n",
    "    response = client.index_faces(CollectionId = collection_id,\n",
    "                             Image={'Bytes': fimage.read()},\n",
    "                             ExternalImageId=externalimageid,\n",
    "                             MaxFaces=1,\n",
    "                             QualityFilter=\"AUTO\",\n",
    "                             DetectionAttributes=['ALL'])\n",
    "\n",
    "print('Results for ' + filename)\n",
    "print('Faces indexed:')\n",
    "for faceRecord in response['FaceRecords']:\n",
    "     print('  Face ID: ' + faceRecord['Face']['FaceId'])\n",
    "     print('  Location: {}'.format(faceRecord['Face']['BoundingBox']))\n",
    "\n",
    "print('Faces not indexed:')\n",
    "for unindexedFace in response['UnindexedFaces']:\n",
    "    print(' Location: {}'.format(unindexedFace['FaceDetail']['BoundingBox']))\n",
    "    print(' Reasons:')\n",
    "    for reason in unindexedFace['Reasons']:\n",
    "        print('   ' + reason)"
   ]
  },
  {
   "cell_type": "markdown",
   "metadata": {},
   "source": [
    "## Tarefa 4: Visualizar a caixa delimitadora da face detectada\n",
    "\n",
    "Se uma face tiver sido encontrada, os resultados deverão incluir o local da face que foi detectada. Examine a caixa delimitadora na imagem.\n",
    "\n",
    "Para fazer isso, use a biblioteca PIL, que você importou anteriormente neste laboratório. Ao extrair a caixa delimitadora, você pode desenhar um conjunto de linhas em torno da imagem.\n"
   ]
  },
  {
   "cell_type": "code",
   "execution_count": null,
   "metadata": {},
   "outputs": [],
   "source": [
    "\n",
    "img = Image.open(filename)\n",
    "imgWidth, imgHeight = img.size\n",
    "\n",
    "draw = ImageDraw.Draw(img)\n",
    "for faceRecord in response['FaceRecords']:\n",
    "    box = faceRecord['Face']['BoundingBox']\n",
    "    left = imgWidth * box['Left']\n",
    "    top = imgHeight * box['Top']\n",
    "    width = imgWidth * box['Width']\n",
    "    height = imgHeight * box['Height']\n",
    "\n",
    "    points = ((left,top),(left+width,top),(left+width,top+height),(left,top+height),(left,top))\n",
    "\n",
    "    draw.line(points,fill='#00d400', width=15)\n",
    "    \n",
    "plt.imshow(img)"
   ]
  },
  {
   "cell_type": "markdown",
   "metadata": {},
   "source": [
    "## Tarefa 5: Listar faces na coleção\n",
    "\n",
    "Examine a imagem que você tem na coleção. \n",
    "\n"
   ]
  },
  {
   "cell_type": "code",
   "execution_count": null,
   "metadata": {},
   "outputs": [],
   "source": [
    "maxResults=2\n",
    "faces_count=0\n",
    "tokens=True\n",
    "\n",
    "response=client.list_faces(CollectionId=collection_id,\n",
    "                           MaxResults=maxResults)\n",
    "\n",
    "print('Faces in collection ' + collection_id)\n",
    "\n",
    "while tokens:\n",
    "\n",
    "    faces=response['Faces']\n",
    "\n",
    "    for face in faces:\n",
    "        print (face)\n",
    "        faces_count+=1\n",
    "    if 'NextToken' in response:\n",
    "        nextToken=response['NextToken']\n",
    "        response=client.list_faces(CollectionId=collection_id,\n",
    "                                   NextToken=nextToken,MaxResults=maxResults)\n",
    "    else:\n",
    "        tokens=False"
   ]
  },
  {
   "cell_type": "markdown",
   "metadata": {},
   "source": [
    "## Tarefa 6: Encontrar uma face usando a coleção\n",
    "\n",
    "Nesta etapa, você usará a coleção para detectar uma face em uma imagem.\n",
    "\n",
    "Use a imagem de exemplo fornecida denominada *target.jpg* e faça o upload dela para este notebook.\n",
    "\n"
   ]
  },
  {
   "cell_type": "code",
   "execution_count": null,
   "metadata": {},
   "outputs": [],
   "source": [
    "targetfilename = \"target.jpg\"\n",
    "\n",
    "targetimage = Image.open(targetfilename)\n",
    "plt.imshow(targetimage)"
   ]
  },
  {
   "cell_type": "markdown",
   "metadata": {},
   "source": [
    "Em seguida, chame a operação `search_faces_by_image` e veja se obtém uma correspondência."
   ]
  },
  {
   "cell_type": "code",
   "execution_count": null,
   "metadata": {},
   "outputs": [],
   "source": [
    "threshold = 70\n",
    "maxFaces=2\n",
    "\n",
    "with open(targetfilename, 'rb') as timage:        \n",
    "    response2=client.search_faces_by_image(CollectionId=collection_id,\n",
    "                            Image={'Bytes': timage.read()},\n",
    "                            FaceMatchThreshold=threshold,\n",
    "                            MaxFaces=maxFaces)\n",
    "\n",
    "faceMatches=response2['FaceMatches']\n",
    "print ('Matching faces')\n",
    "for match in faceMatches:\n",
    "        print ('FaceId:' + match['Face']['FaceId'])\n",
    "        print ('Similarity: ' + \"{:.2f}\".format(match['Similarity']) + \"%\")\n",
    "        print ('ExternalImageId: ' + match['Face']['ExternalImageId'])\n",
    "        print"
   ]
  },
  {
   "cell_type": "markdown",
   "metadata": {},
   "source": [
    "## Tarefa 7: Desenhar uma caixa delimitadora em torno da face descoberta\n",
    "\n",
    "Desenhe uma caixa delimitadora em torno da face descoberta."
   ]
  },
  {
   "cell_type": "code",
   "execution_count": null,
   "metadata": {},
   "outputs": [],
   "source": [
    "imgWidth, imgHeight = targetimage.size\n",
    "\n",
    "draw = ImageDraw.Draw(targetimage)\n",
    "\n",
    "box = response2['SearchedFaceBoundingBox']\n",
    "left = imgWidth * box['Left']\n",
    "top = imgHeight * box['Top']\n",
    "width = imgWidth * box['Width']\n",
    "height = imgHeight * box['Height']\n",
    "\n",
    "points = ((left,top),(left+width,top),(left+width,top+height),(left,top+height),(left,top))\n",
    "draw.line(points,fill='#00d400', width=15)\n",
    "    \n",
    "plt.imshow(targetimage)"
   ]
  },
  {
   "cell_type": "markdown",
   "metadata": {},
   "source": [
    "## Tarefa 8: Excluir a coleção\n",
    "\n",
    "Quando terminar, exclua a coleção. Para fazer isso, execute o código a seguir. \n"
   ]
  },
  {
   "cell_type": "code",
   "execution_count": null,
   "metadata": {},
   "outputs": [],
   "source": [
    "print('Attempting to delete collection ' + collection_id)\n",
    "status_code=0\n",
    "try:\n",
    "    response=client.delete_collection(CollectionId=collection_id)\n",
    "    status_code=response['StatusCode']\n",
    "    print('All done!')\n",
    "    print(status_code)\n",
    "    \n",
    "except ClientError as e:\n",
    "    if e.response['Error']['Code'] == 'ResourceNotFoundException':\n",
    "        print ('The collection ' + collection_id + ' was not found ')\n",
    "    else:\n",
    "        print ('Error other than Not Found occurred: ' + e.response['Error']['Message'])\n",
    "    status_code=e.response['ResponseMetadata']['HTTPStatusCode']\n",
    "\n"
   ]
  },
  {
   "cell_type": "markdown",
   "metadata": {},
   "source": [
    "# Parabéns!\n",
    "\n",
    "Você concluiu este laboratório e agora pode encerrá-lo seguindo as instruções do guia do laboratório."
   ]
  }
 ],
 "metadata": {
  "kernelspec": {
   "display_name": "conda_python3",
   "language": "python",
   "name": "conda_python3"
  },
  "language_info": {
   "codemirror_mode": {
    "name": "ipython",
    "version": 3
   },
   "file_extension": ".py",
   "mimetype": "text/x-python",
   "name": "python",
   "nbconvert_exporter": "python",
   "pygments_lexer": "ipython3",
   "version": "3.6.5"
  }
 },
 "nbformat": 4,
 "nbformat_minor": 4
}
